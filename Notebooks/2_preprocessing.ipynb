{
 "cells": [
  {
   "cell_type": "markdown",
   "metadata": {},
   "source": [
    "# 2. Preprocesamiento"
   ]
  },
  {
   "cell_type": "code",
   "execution_count": null,
   "metadata": {},
   "outputs": [],
   "source": [
    "import numpy as np
",
    "from tensorflow.keras.datasets import imdb
",
    "from tensorflow.keras.preprocessing.sequence import pad_sequences
",
    "import os
",
    "
",
    "# Cargar dataset
",
    "(X_train, y_train), (X_test, y_test) = imdb.load_data(num_words=10000)
",
    "
",
    "# Padding
",
    "X_train_padded = pad_sequences(X_train, maxlen=500)
",
    "X_test_padded = pad_sequences(X_test, maxlen=500)
",
    "
",
    "# Guardar datos
",
    "os.makedirs('data', exist_ok=True)
",
    "np.save('data/X_train.npy', X_train_padded)
",
    "np.save('data/X_test.npy', X_test_padded)
",
    "np.save('data/y_train.npy', y_train)
",
    "np.save('data/y_test.npy', y_test)"
   ]
  }
 ],
 "metadata": {},
 "nbformat": 4,
 "nbformat_minor": 5
}