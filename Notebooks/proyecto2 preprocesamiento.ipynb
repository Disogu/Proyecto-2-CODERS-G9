{
 "cells": [
  {
   "cell_type": "code",
   "execution_count": null,
   "id": "fde78dc4-0b74-498c-b531-0f85af90a181",
   "metadata": {},
   "outputs": [],
   "source": [
    "from tensorflow.keras.preprocessing.sequence import pad_sequences\n",
    "import joblib\n",
    "# Padding de las secuencias\n",
    "maxlen = 500\n",
    "X_train_padded = pad_sequences(X_train, maxlen=maxlen)\n",
    "X_test_padded = pad_sequences(X_test, maxlen=maxlen)\n",
    "# Guardar los datos preprocesados\n",
    "np.save('data/X_train.npy', X_train_padded)\n",
    "np.save('data/X_test.npy', X_test_padded)\n",
    "np.save('data/y_train.npy', y_train)\n",
    "np.save('data/y_test.npy', y_test)\n"
   ]
  }
 ],
 "metadata": {
  "kernelspec": {
   "display_name": "Python [conda env:base] *",
   "language": "python",
   "name": "conda-base-py"
  },
  "language_info": {
   "codemirror_mode": {
    "name": "ipython",
    "version": 3
   },
   "file_extension": ".py",
   "mimetype": "text/x-python",
   "name": "python",
   "nbconvert_exporter": "python",
   "pygments_lexer": "ipython3",
   "version": "3.12.7"
  }
 },
 "nbformat": 4,
 "nbformat_minor": 5
}
