{
 "cells": [
  {
   "cell_type": "markdown",
   "metadata": {},
   "source": [
    "# 3. Entrenamiento y Validación del Modelo"
   ]
  },
  {
   "cell_type": "code",
   "execution_count": null,
   "metadata": {},
   "outputs": [],
   "source": [
    "import numpy as np
",
    "from tensorflow.keras.models import Sequential
",
    "from tensorflow.keras.layers import Embedding, LSTM, Dense
",
    "from tensorflow.keras.callbacks import EarlyStopping
",
    "import mlflow
",
    "import mlflow.keras
",
    "from mlflow.models.signature import infer_signature
",
    "
",
    "X_train = np.load('data/X_train.npy')
",
    "X_test = np.load('data/X_test.npy')
",
    "y_train = np.load('data/y_train.npy')
",
    "y_test = np.load('data/y_test.npy')
",
    "
",
    "model = Sequential()
",
    "model.add(Embedding(input_dim=10000, output_dim=128, input_length=500))
",
    "model.add(LSTM(64))
",
    "model.add(Dense(1, activation='sigmoid'))
",
    "
",
    "model.compile(optimizer='adam', loss='binary_crossentropy', metrics=['accuracy'])
",
    "early_stop = EarlyStopping(monitor='val_loss', patience=2)
",
    "
",
    "with mlflow.start_run():
",
    "    history = model.fit(
",
    "        X_train, y_train,
",
    "        epochs=10,
",
    "        batch_size=64,
",
    "        validation_split=0.2,
",
    "        callbacks=[early_stop]
",
    "    )
",
    "
",
    "    input_example = X_train[:1]
",
    "    signature = infer_signature(input_example, model.predict(input_example))
",
    "
",
    "    model.save("models/lstm_model.keras")
",
    "
",
    "    mlflow.keras.log_model(
",
    "        model,
",
    "        "lstm_model",
",
    "        input_example=input_example,
",
    "        signature=signature
",
    "    )
",
    "
",
    "    loss, accuracy = model.evaluate(X_test, y_test)
",
    "    mlflow.log_metric("loss", loss)
",
    "    mlflow.log_metric("accuracy", accuracy)"
   ]
  }
 ],
 "metadata": {},
 "nbformat": 4,
 "nbformat_minor": 5
}