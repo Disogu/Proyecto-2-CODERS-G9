{
 "cells": [
  {
   "cell_type": "markdown",
   "metadata": {},
   "source": [
    "# 1. Análisis Exploratorio (EDA)"
   ]
  },
  {
   "cell_type": "code",
   "execution_count": null,
   "metadata": {},
   "outputs": [],
   "source": [
    "import pandas as pd
",
    "import seaborn as sns
",
    "import matplotlib.pyplot as plt
",
    "from sklearn.datasets import load_files
",
    "
",
    "# Cargar dataset de ejemplo IMDB
",
    "from tensorflow.keras.datasets import imdb
",
    "(X_train, y_train), (X_test, y_test) = imdb.load_data(num_words=10000)
",
    "
",
    "# Visualizar distribución de clases
",
    "sns.countplot(y=y_train)
",
    "plt.title("Distribución de clases (0 = Negativa, 1 = Positiva)")
",
    "plt.show()
",
    "
",
    "# Longitudes de reseñas
",
    "review_lengths = [len(x) for x in X_train]
",
    "sns.histplot(review_lengths, bins=50, kde=True)
",
    "plt.title("Distribución de longitudes de reseñas")
",
    "plt.xlabel("Número de palabras")
",
    "plt.show()"
   ]
  }
 ],
 "metadata": {},
 "nbformat": 4,
 "nbformat_minor": 5
}