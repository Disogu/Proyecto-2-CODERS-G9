{
 "cells": [
  {
   "cell_type": "markdown",
   "metadata": {},
   "source": [
    "# 4. Evaluación Final y Exportación"
   ]
  },
  {
   "cell_type": "code",
   "execution_count": null,
   "metadata": {},
   "outputs": [],
   "source": [
    "from tensorflow.keras.models import load_model
",
    "import numpy as np
",
    "from sklearn.metrics import classification_report, confusion_matrix
",
    "
",
    "# Cargar modelo
",
    "model = load_model("models/lstm_model.keras")
",
    "
",
    "# Datos
",
    "X_test = np.load("data/X_test.npy")
",
    "y_test = np.load("data/y_test.npy")
",
    "
",
    "# Predicciones
",
    "y_pred = (model.predict(X_test) > 0.5).astype("int32")
",
    "print(confusion_matrix(y_test, y_pred))
",
    "print(classification_report(y_test, y_pred))"
   ]
  }
 ],
 "metadata": {},
 "nbformat": 4,
 "nbformat_minor": 5
}